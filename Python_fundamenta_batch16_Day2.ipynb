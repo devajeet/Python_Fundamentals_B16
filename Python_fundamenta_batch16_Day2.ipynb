{
 "cells": [
  {
   "cell_type": "code",
   "execution_count": null,
   "metadata": {},
   "outputs": [],
   "source": [
    "#Introduction to f string\n",
    "Syntax: f\"{Placeholder1}{placeholder2}\""
   ]
  },
  {
   "cell_type": "code",
   "execution_count": 1,
   "metadata": {},
   "outputs": [
    {
     "name": "stdout",
     "output_type": "stream",
     "text": [
      "devajeetyadav\n"
     ]
    }
   ],
   "source": [
    "first_name=\"devajeet\"\n",
    "last_name=\"yadav\"\n",
    "print(f\"{first_name}{last_name}\") #Will not get space bt these two words"
   ]
  },
  {
   "cell_type": "code",
   "execution_count": 2,
   "metadata": {},
   "outputs": [
    {
     "name": "stdout",
     "output_type": "stream",
     "text": [
      "devajeet yadav\n"
     ]
    }
   ],
   "source": [
    "first_name=\"devajeet\"\n",
    "last_name=\"yadav\"\n",
    "print(f\"{first_name} {last_name}\")# will get space"
   ]
  },
  {
   "cell_type": "code",
   "execution_count": 3,
   "metadata": {},
   "outputs": [
    {
     "name": "stdout",
     "output_type": "stream",
     "text": [
      "devajeet yadav\n"
     ]
    }
   ],
   "source": [
    "first_name=\"devajeet\"\n",
    "last_name=\"yadav\"\n",
    "full_name=f\"{first_name} {last_name}\"\n",
    "print(full_name)"
   ]
  },
  {
   "cell_type": "code",
   "execution_count": 4,
   "metadata": {},
   "outputs": [
    {
     "name": "stdout",
     "output_type": "stream",
     "text": [
      "Devajeet Yadav\n"
     ]
    }
   ],
   "source": [
    "print(full_name.title())"
   ]
  },
  {
   "cell_type": "code",
   "execution_count": 5,
   "metadata": {},
   "outputs": [
    {
     "name": "stdout",
     "output_type": "stream",
     "text": [
      "keep up the good work,Devajeet Yadav\n"
     ]
    }
   ],
   "source": [
    "message=f\"keep up the good work,{full_name.title()}\"\n",
    "print(message)"
   ]
  },
  {
   "cell_type": "code",
   "execution_count": 6,
   "metadata": {},
   "outputs": [
    {
     "name": "stdout",
     "output_type": "stream",
     "text": [
      "python c c++\n"
     ]
    }
   ],
   "source": [
    "#Adding white space to strings\n",
    "print('python','c','c++')"
   ]
  },
  {
   "cell_type": "code",
   "execution_count": 7,
   "metadata": {},
   "outputs": [
    {
     "name": "stdout",
     "output_type": "stream",
     "text": [
      "\n",
      "python \n",
      "c \n",
      "c++\n"
     ]
    }
   ],
   "source": [
    "print('\\npython','\\nc','\\nc++')  #\\n--is used to print in new line"
   ]
  },
  {
   "cell_type": "code",
   "execution_count": 8,
   "metadata": {},
   "outputs": [
    {
     "name": "stdout",
     "output_type": "stream",
     "text": [
      "\tpython \tc \tc++\n"
     ]
    }
   ],
   "source": [
    "print('\\tpython','\\tc','\\tc++') #\\t----tab delimiter"
   ]
  },
  {
   "cell_type": "code",
   "execution_count": 9,
   "metadata": {},
   "outputs": [
    {
     "name": "stdout",
     "output_type": "stream",
     "text": [
      "\n",
      "\tpython \n",
      "\tc \n",
      "\tc++\n"
     ]
    }
   ],
   "source": [
    "print('\\n\\tpython','\\n\\tc','\\n\\tc++')"
   ]
  },
  {
   "cell_type": "code",
   "execution_count": null,
   "metadata": {},
   "outputs": [],
   "source": []
  }
 ],
 "metadata": {
  "kernelspec": {
   "display_name": "Python 3",
   "language": "python",
   "name": "python3"
  },
  "language_info": {
   "codemirror_mode": {
    "name": "ipython",
    "version": 3
   },
   "file_extension": ".py",
   "mimetype": "text/x-python",
   "name": "python",
   "nbconvert_exporter": "python",
   "pygments_lexer": "ipython3",
   "version": "3.7.6"
  }
 },
 "nbformat": 4,
 "nbformat_minor": 4
}
