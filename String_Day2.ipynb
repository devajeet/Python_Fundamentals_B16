{
 "cells": [
  {
   "cell_type": "code",
   "execution_count": null,
   "metadata": {},
   "outputs": [],
   "source": [
    "#Introduction to f string\n",
    "Syntax: f\"{Placeholder1}{placeholder2}\""
   ]
  },
  {
   "cell_type": "code",
   "execution_count": 1,
   "metadata": {},
   "outputs": [
    {
     "name": "stdout",
     "output_type": "stream",
     "text": [
      "devajeetyadav\n"
     ]
    }
   ],
   "source": [
    "first_name=\"devajeet\"\n",
    "last_name=\"yadav\"\n",
    "print(f\"{first_name}{last_name}\") #Will not get space bt these two words"
   ]
  },
  {
   "cell_type": "code",
   "execution_count": 2,
   "metadata": {},
   "outputs": [
    {
     "name": "stdout",
     "output_type": "stream",
     "text": [
      "devajeet yadav\n"
     ]
    }
   ],
   "source": [
    "first_name=\"devajeet\"\n",
    "last_name=\"yadav\"\n",
    "print(f\"{first_name} {last_name}\")# will get space"
   ]
  },
  {
   "cell_type": "code",
   "execution_count": 3,
   "metadata": {},
   "outputs": [
    {
     "name": "stdout",
     "output_type": "stream",
     "text": [
      "devajeet yadav\n"
     ]
    }
   ],
   "source": [
    "first_name=\"devajeet\"\n",
    "last_name=\"yadav\"\n",
    "full_name=f\"{first_name} {last_name}\"\n",
    "print(full_name)"
   ]
  },
  {
   "cell_type": "code",
   "execution_count": 4,
   "metadata": {},
   "outputs": [
    {
     "name": "stdout",
     "output_type": "stream",
     "text": [
      "Devajeet Yadav\n"
     ]
    }
   ],
   "source": [
    "print(full_name.title())"
   ]
  },
  {
   "cell_type": "code",
   "execution_count": 5,
   "metadata": {},
   "outputs": [
    {
     "name": "stdout",
     "output_type": "stream",
     "text": [
      "keep up the good work,Devajeet Yadav\n"
     ]
    }
   ],
   "source": [
    "message=f\"keep up the good work,{full_name.title()}\"\n",
    "print(message)"
   ]
  },
  {
   "cell_type": "code",
   "execution_count": 6,
   "metadata": {},
   "outputs": [
    {
     "name": "stdout",
     "output_type": "stream",
     "text": [
      "python c c++\n"
     ]
    }
   ],
   "source": [
    "#Adding white space to strings\n",
    "print('python','c','c++')"
   ]
  },
  {
   "cell_type": "code",
   "execution_count": 7,
   "metadata": {},
   "outputs": [
    {
     "name": "stdout",
     "output_type": "stream",
     "text": [
      "\n",
      "python \n",
      "c \n",
      "c++\n"
     ]
    }
   ],
   "source": [
    "print('\\npython','\\nc','\\nc++')  #\\n--is used to print in new line"
   ]
  },
  {
   "cell_type": "code",
   "execution_count": 8,
   "metadata": {},
   "outputs": [
    {
     "name": "stdout",
     "output_type": "stream",
     "text": [
      "\tpython \tc \tc++\n"
     ]
    }
   ],
   "source": [
    "print('\\tpython','\\tc','\\tc++') #\\t----tab delimiter"
   ]
  },
  {
   "cell_type": "code",
   "execution_count": 9,
   "metadata": {},
   "outputs": [
    {
     "name": "stdout",
     "output_type": "stream",
     "text": [
      "\n",
      "\tpython \n",
      "\tc \n",
      "\tc++\n"
     ]
    }
   ],
   "source": [
    "print('\\n\\tpython','\\n\\tc','\\n\\tc++')"
   ]
  },
  {
   "cell_type": "code",
   "execution_count": 10,
   "metadata": {},
   "outputs": [
    {
     "ename": "SyntaxError",
     "evalue": "invalid syntax (<ipython-input-10-91b39eed5eb4>, line 2)",
     "output_type": "error",
     "traceback": [
      "\u001b[1;36m  File \u001b[1;32m\"<ipython-input-10-91b39eed5eb4>\"\u001b[1;36m, line \u001b[1;32m2\u001b[0m\n\u001b[1;33m    Syntax:\u001b[0m\n\u001b[1;37m           ^\u001b[0m\n\u001b[1;31mSyntaxError\u001b[0m\u001b[1;31m:\u001b[0m invalid syntax\n"
     ]
    }
   ],
   "source": [
    "#Usage of triple codes:\n",
    "Syntax:\n",
    "'''  ''' or \"\"\"  \"\"\"\n",
    "\n",
    "1. Fo multiline string literals.\n",
    "2.To use single quotes and double quotes as normal character.\n",
    "3.To define doc string.\n",
    "\n",
    "Example: s='class by \"Durga\" is good'\n",
    "         s=\"class by 'Durga'is very good\"\n",
    "         s='''class by'Durga' for \"python\" is very good'''\n"
   ]
  },
  {
   "cell_type": "code",
   "execution_count": 13,
   "metadata": {},
   "outputs": [
    {
     "name": "stdout",
     "output_type": "stream",
     "text": [
      "class by \"Durga\" is good\n",
      "class by 'Durga'is very good\n"
     ]
    }
   ],
   "source": [
    "s='class by \"Durga\" is good'\n",
    "print(s)\n",
    "\n",
    "s=\"class by 'Durga'is very good\"\n",
    "print(s)"
   ]
  },
  {
   "cell_type": "code",
   "execution_count": 12,
   "metadata": {},
   "outputs": [
    {
     "name": "stdout",
     "output_type": "stream",
     "text": [
      "class by'Durga' for \"python\" is very good\n"
     ]
    }
   ],
   "source": [
    "s='''class by'Durga' for \"python\" is very good'''\n",
    "print(s)"
   ]
  },
  {
   "cell_type": "code",
   "execution_count": null,
   "metadata": {},
   "outputs": [],
   "source": []
  }
 ],
 "metadata": {
  "kernelspec": {
   "display_name": "Python 3",
   "language": "python",
   "name": "python3"
  },
  "language_info": {
   "codemirror_mode": {
    "name": "ipython",
    "version": 3
   },
   "file_extension": ".py",
   "mimetype": "text/x-python",
   "name": "python",
   "nbconvert_exporter": "python",
   "pygments_lexer": "ipython3",
   "version": "3.7.6"
  }
 },
 "nbformat": 4,
 "nbformat_minor": 4
}
